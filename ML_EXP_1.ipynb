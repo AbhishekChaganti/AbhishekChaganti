{
  "cells": [
    {
      "cell_type": "markdown",
      "metadata": {
        "id": "view-in-github",
        "colab_type": "text"
      },
      "source": [
        "<a href=\"https://colab.research.google.com/github/AbhishekChaganti/AbhishekChaganti/blob/main/ML_EXP_1.ipynb\" target=\"_parent\"><img src=\"https://colab.research.google.com/assets/colab-badge.svg\" alt=\"Open In Colab\"/></a>"
      ]
    },
    {
      "cell_type": "code",
      "source": [
        "import pandas as pd\n",
        "import numpy as np\n",
        "\n",
        "data = pd.read_csv('/content/data.csv')\n",
        "\n",
        "contents = np.array(data)[:,:-1]\n",
        "target = np.array(data)[:,-1]\n",
        "\n",
        "print(contents)\n",
        "print(target)"
      ],
      "metadata": {
        "id": "YX7YL4sm9Nl4",
        "outputId": "3f104fda-8bb7-4c37-86fe-d327ea7429b1",
        "colab": {
          "base_uri": "https://localhost:8080/"
        }
      },
      "execution_count": 1,
      "outputs": [
        {
          "output_type": "stream",
          "name": "stdout",
          "text": [
            "[['sunny' 'warm' 'normal' 'strong' 'warm' 'same']\n",
            " ['sunny' 'warm' 'high' 'strong' 'warm' 'same']\n",
            " ['rainy' 'cold' 'high' 'strong' 'warm' 'change']\n",
            " ['sunny' 'warm' 'high' 'strong' 'cool' 'change']]\n",
            "['yes' 'yes' 'no' 'yes']\n"
          ]
        }
      ]
    },
    {
      "cell_type": "code",
      "source": [
        "def train(con, tar):\n",
        "  for i , val in enumerate(tar):\n",
        "    if(val == 'yes'):\n",
        "      specific_hypo = con[i].copy()\n",
        "      print(f\"Initial hypothesis for the first positive hypothesis is {specific_hypo}\")\n",
        "      break\n",
        "  for i , val in enumerate(con):\n",
        "        if tar[i] == 'yes':\n",
        "            for x in range(len(specific_hypo)):\n",
        "                if val[x] != specific_hypo[x]:\n",
        "                    specific_hypo[x] = '?'\n",
        "            print(f\"\\nHypothesis after example {i+1}: {specific_hypo}\")\n",
        "  return specific_hypo\n",
        "\n",
        "specific_hypothesis = train(contents,target)\n",
        "print(f\"The most specfic hypothesis is {specific_hypothesis}\")"
      ],
      "metadata": {
        "id": "AFwHuHx6_cpO",
        "outputId": "3565d266-c669-4bfc-bdd7-de69a0c2a526",
        "colab": {
          "base_uri": "https://localhost:8080/"
        }
      },
      "execution_count": 27,
      "outputs": [
        {
          "output_type": "stream",
          "name": "stdout",
          "text": [
            "Initial hypothesis for the first positive hypothesis is ['sunny' 'warm' 'normal' 'strong' 'warm' 'same']\n",
            "\n",
            "Hypothesis after example 1: ['sunny' 'warm' 'normal' 'strong' 'warm' 'same']\n",
            "\n",
            "Hypothesis after example 2: ['sunny' 'warm' '?' 'strong' 'warm' 'same']\n",
            "\n",
            "Hypothesis after example 4: ['sunny' 'warm' '?' 'strong' '?' '?']\n",
            "The most specfic hypothesis is ['sunny' 'warm' '?' 'strong' '?' '?']\n"
          ]
        }
      ]
    }
  ],
  "metadata": {
    "colab": {
      "name": "Welcome To Colab",
      "provenance": [],
      "include_colab_link": true
    },
    "kernelspec": {
      "display_name": "Python 3",
      "name": "python3"
    }
  },
  "nbformat": 4,
  "nbformat_minor": 0
}